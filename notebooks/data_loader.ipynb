{
 "cells": [
  {
   "cell_type": "markdown",
   "metadata": {},
   "source": [
    "# Data Loader\n",
    "This script makes use of open source datasets published to Hugging Face. In particular this will download various articles or writing samples with some associated questions and answers. This is great for experimenting with an FAQ RAG application, comparing new questions from users with existing questions in the database."
   ]
  },
  {
   "cell_type": "markdown",
   "metadata": {},
   "source": [
    "First, specify the dataset to download from Hugging Face (stanfordnlp/coqa)."
   ]
  },
  {
   "cell_type": "code",
   "execution_count": 1,
   "metadata": {},
   "outputs": [],
   "source": [
    "from datasets import load_dataset\n",
    "\n",
    "REPO_ID = \"stanfordnlp/coqa\"\n",
    "\n",
    "dataset = load_dataset(REPO_ID)"
   ]
  },
  {
   "cell_type": "markdown",
   "metadata": {},
   "source": [
    "Create tables in the Vector Database to store the raw and embedding data"
   ]
  },
  {
   "cell_type": "code",
   "execution_count": 8,
   "metadata": {},
   "outputs": [],
   "source": [
    "import iris\n",
    "\n",
    "conn = iris.connect(hostname='localhost', \n",
    "                    port=51972, \n",
    "                    namespace='USER',\n",
    "                    username='SuperUser', \n",
    "                    password='SYS')\n",
    "\n",
    "cursor = conn.cursor()\n",
    "cursor.execute(\"\"\"\n",
    "                CREATE TABLE RAG_COQA.Story (\n",
    "                    StoryId INTEGER,\n",
    "                    Source VARCHAR(50),\n",
    "                    Story VARCHAR(10000),\n",
    "                    StoryEmbedding VECTOR(DOUBLE, 768)\n",
    "                )\n",
    "            \"\"\")\n",
    "\n",
    "cursor.execute(\"\"\"\n",
    "                CREATE TABLE RAG_COQA.QandA (\n",
    "                    StoryId INTEGER,\n",
    "                    Question VARCHAR(500),\n",
    "                    QuestionEmbedding VECTOR(DOUBLE, 768),\n",
    "                    Answer VARCHAR(1000)         \n",
    "                )\n",
    "            \"\"\")\n",
    "cursor.close()"
   ]
  },
  {
   "cell_type": "markdown",
   "metadata": {},
   "source": [
    "Cache the embedding model from Hugging Face locally. You can view a leaderboard of text embedding models based on the MTE Benchmark here: https://huggingface.co/spaces/mteb/leaderboard"
   ]
  },
  {
   "cell_type": "code",
   "execution_count": 3,
   "metadata": {},
   "outputs": [],
   "source": [
    "from sentence_transformers import SentenceTransformer\n",
    "model = SentenceTransformer(\"avsolatorio/GIST-Embedding-v0\", cache_folder='.\\\\huggingface_cache')"
   ]
  },
  {
   "cell_type": "markdown",
   "metadata": {},
   "source": [
    "We will extract the 'train' data partition for the embeddings. To check the naming of the dataset splits, check the Hugging Face Dataset repo directly: https://huggingface.co/datasets/stanfordnlp/coqa"
   ]
  },
  {
   "cell_type": "code",
   "execution_count": 4,
   "metadata": {},
   "outputs": [
    {
     "name": "stdout",
     "output_type": "stream",
     "text": [
      "{'source': 'wikipedia', 'story': 'The Vatican Apostolic Library (), more commonly called the Vatican Library or simply the Vat, is the library of the Holy See, located in Vatican City. Formally established in 1475, although it is much older, it is one of the oldest libraries in the world and contains one of the most significant collections of historical texts. It has 75,000 codices from throughout history, as well as 1.1 million printed books, which include some 8,500 incunabula. \\n\\nThe Vatican Library is a research library for history, law, philosophy, science and theology. The Vatican Library is open to anyone who can document their qualifications and research needs. Photocopies for private study of pages from books published between 1801 and 1990 can be requested in person or by mail. \\n\\nIn March 2014, the Vatican Library began an initial four-year project of digitising its collection of manuscripts, to be made available online. \\n\\nThe Vatican Secret Archives were separated from the library at the beginning of the 17th century; they contain another 150,000 items. \\n\\nScholars have traditionally divided the history of the library into five periods, Pre-Lateran, Lateran, Avignon, Pre-Vatican and Vatican. \\n\\nThe Pre-Lateran period, comprising the initial days of the library, dated from the earliest days of the Church. Only a handful of volumes survive from this period, though some are very significant.', 'questions': ['When was the Vat formally opened?', 'what is the library for?', 'for what subjects?', 'and?', 'what was started in 2014?', 'how do scholars divide the library?', 'how many?', 'what is the official name of the Vat?', 'where is it?', 'how many printed books does it contain?', 'when were the Secret Archives moved from the rest of the library?', 'how many items are in this secret collection?', 'Can anyone use this library?', 'what must be requested to view?', 'what must be requested in person or by mail?', 'of what books?', 'What is the Vat the library of?', 'How many books survived the Pre Lateran period?', 'what is the point of the project started in 2014?', 'what will this allow?'], 'answers': {'input_text': ['It was formally established in 1475', 'research', 'history, and law', 'philosophy, science and theology', 'a  project', 'into periods', 'five', 'The Vatican Apostolic Library', 'in Vatican City', '1.1 million', 'at the beginning of the 17th century;', '150,000', 'anyone who can document their qualifications and research needs.', 'unknown', 'Photocopies', 'only books published between 1801 and 1990', 'the Holy See', 'a handful of volumes', 'digitising manuscripts', 'them to be viewed online.'], 'answer_start': [151, 454, 457, 457, 769, 1048, 1048, 4, 94, 328, 917, 915, 546, -1, 643, 644, 78, 1192, 785, 868], 'answer_end': [179, 494, 511, 545, 879, 1127, 1128, 94, 150, 412, 1009, 1046, 643, -1, 764, 724, 125, 1384, 881, 910]}}\n",
      "{'source': 'cnn', 'story': 'New York (CNN) -- More than 80 Michael Jackson collectibles -- including the late pop star\\'s famous rhinestone-studded glove from a 1983 performance -- were auctioned off Saturday, reaping a total $2 million. \\n\\nProfits from the auction at the Hard Rock Cafe in New York\\'s Times Square crushed pre-sale expectations of only $120,000 in sales. \\n\\nThe highly prized memorabilia, which included items spanning the many stages of Jackson\\'s career, came from more than 30 fans, associates and family members, who contacted Julien\\'s Auctions to sell their gifts and mementos of the singer. \\n\\nJackson\\'s flashy glove was the big-ticket item of the night, fetching $420,000 from a buyer in Hong Kong, China. Jackson wore the glove at a 1983 performance during \"Motown 25,\" an NBC special where he debuted his revolutionary moonwalk. \\n\\nFellow Motown star Walter \"Clyde\" Orange of the Commodores, who also performed in the special 26 years ago, said he asked for Jackson\\'s autograph at the time, but Jackson gave him the glove instead. \\n\\n\"The legacy that [Jackson] left behind is bigger than life for me,\" Orange said. \"I hope that through that glove people can see what he was trying to say in his music and what he said in his music.\" \\n\\nOrange said he plans to give a portion of the proceeds to charity. \\n\\nHoffman Ma, who bought the glove on behalf of Ponte 16 Resort in Macau, paid a 25 percent buyer\\'s premium, which was tacked onto all final sales over $50,000. Winners of items less than $50,000 paid a 20 percent premium. ', 'questions': ['Where was the Auction held?', 'How much did they make?', 'How much did they expected?', 'WHo buy the Jackson Glove', 'Where was the buyer of the glove from?'], 'answers': {'input_text': ['Hard Rock Cafe', '$2 million.', '$120,000', 'Hoffman Ma', 'Macau'], 'answer_start': [243, 180, 292, 1295, 1331], 'answer_end': [284, 210, 342, 1365, 1366]}}\n",
      "{'source': 'gutenberg', 'story': 'CHAPTER VII. THE DAUGHTER OF WITHERSTEEN \\n\\n\"Lassiter, will you be my rider?\" Jane had asked him. \\n\\n\"I reckon so,\" he had replied. \\n\\nFew as the words were, Jane knew how infinitely much they implied. She wanted him to take charge of her cattle and horse and ranges, and save them if that were possible. Yet, though she could not have spoken aloud all she meant, she was perfectly honest with herself. Whatever the price to be paid, she must keep Lassiter close to her; she must shield from him the man who had led Milly Erne to Cottonwoods. In her fear she so controlled her mind that she did not whisper this Mormon\\'s name to her own soul, she did not even think it. Besides, beyond this thing she regarded as a sacred obligation thrust upon her, was the need of a helper, of a friend, of a champion in this critical time. If she could rule this gun-man, as Venters had called him, if she could even keep him from shedding blood, what strategy to play his flame and his presence against the game of oppression her churchmen were waging against her? Never would she forget the effect on Tull and his men when Venters shouted Lassiter\\'s name. If she could not wholly control Lassiter, then what she could do might put off the fatal day. \\n\\nOne of her safe racers was a dark bay, and she called him Bells because of the way he struck his iron shoes on the stones. When Jerd led out this slender, beautifully built horse Lassiter suddenly became all eyes. A rider\\'s love of a thoroughbred shone in them. Round and round Bells he walked, plainly weakening all the time in his determination not to take one of Jane\\'s favorite racers. ', 'questions': ['What did Venters call Lassiter?', 'Who asked Lassiter to be their rider?', 'Did he agree?', 'Why did she ask him?', 'Did she tell him as much?', 'What was she willing to give up?', 'Where was Milly led to?', 'Who took her there?', 'Whose name would Jane not speak?', 'Did she allow herself to even think it?', 'What was Jane hoping Lassiter would become to her?', 'Who was oppressing her?', 'What was she hoping she could keep from happening to him?', \"Who had shouted Lassiter's name?\", 'Who did that affect?', 'Did Jane think she could control Lassiter?', 'Who is Bells?', 'How did he get his name?', 'Was Lassiter impressed with the horse?', 'Did he want to take him for himself?'], 'answers': {'input_text': ['gun-man', 'Jane', 'Yes', 'to take charge of her cattle and horse and ranges, and save them', 'No', 'Whatever the price to be paid', 'Cottonwoods', 'A man', \"this Mormon's name\", 'No', 'a helper, of a friend, of a champion', 'her churchmen', 'shedding blood', 'Venters', 'Tull and his men', 'No', 'One of her safe racers', 'because of the way he struck his iron shoes on the stones.', 'Yes', 'Yes'], 'answer_start': [841, 43, 99, 199, 307, 400, 509, 493, 604, 640, 751, 991, 885, 1108, 1071, 1141, 1237, 1280, 1360, 1532], 'answer_end': [880, 97, 129, 301, 360, 429, 538, 538, 622, 666, 798, 1047, 928, 1140, 1140, 1205, 1300, 1360, 1450, 1625]}}\n",
      "{'source': 'cnn', 'story': '(CNN) -- The longest-running holiday special still has a very shiny nose. \\n\\n\"Rudolph the Red-Nosed Reindeer\" premiered on television December 6, 1964, and is now one of the holiday season\\'s perennial favorites. The story of the reindeer who saves Christmas is beloved among children and adults alike. \\n\\nThe Rankin-Bass animated film production company used Japanese puppets and stop motion to tell the tale, bolstered by a soundtrack featuring Burl Ives\\' rendition of the theme song. \\n\\nIn the story, Santa\\'s reindeer Donner and his wife have a son, Rudolph, who has the distinction of a nose that glows. He runs away after being made to feel an outcast and links up with an elf who dreams of becoming a dentist and an adventurer seeking silver and gold. \\n\\nAfter ending up on the Island of Misfit Toys and wandering for a while, Rudolph goes on to save his loved ones from the Abominable Snow Monster and guides Santa through a blizzard that threatens to ruin Christmas. \\n\\nIn 2006, the New York Times reported that fans drove for miles to see the Rudolph and Santa Claus puppets at the Center for Puppetry Arts in Atlanta. The pair were thought to be the last of the surviving production puppets. They had been taken home by a production company employee and given to her children after filming was completed. \\n\\n\"In 2005, the nephew of the original rescuer found the puppets in a family attic and brought them to be appraised on the PBS series \\'Antiques Roadshow,\\' \" the Times said. \"Created for about $5,000 each in 1964, they were valued at $8,000 to $10,000 for the pair. The family sold both figures to Kevin A. Kriess, the president of TimeandSpaceToys.com and a lifelong fan of the Rankin-Bass films.\" ', 'questions': [\"Who is Rudolph's father?\", 'Why does Rudolph run away?', 'What makes him different from the other reindeer?', 'Who does he save during a snow storm?', 'Does he save Christmas?', 'What Island does he travel to?', 'Which company produced the movie?', 'When did it premiere?', 'What methods were used in filming the movie?', 'Are all of the puppets still in existence?', 'How many remain?', 'Which?', 'Where had they been stored since their use in the show?', 'When were they rediscovered?', 'When were they put on display?', 'Where?', 'How much did they appraise for in 2005?', 'How much did they originally cost to produce?', 'What year were they made?', 'Who bought them?'], 'answers': {'input_text': ['Donner', 'he felt like an outcast', 'his nose glows', 'his loved ones', 'yes', 'the Island of Misfit Toys', 'Rankin-Bass', 'December 6, 1964', 'Japanese puppets and stop motion', 'no', 'two', 'Rudolph and Santa Claus', 'in a family attic', 'In 2005', 'In 2006', 'the Center for Puppetry Arts', '$8,000 to $10,000 for the pair', 'about $5,000 each', '1964', 'Kevin A. Kriess'], 'answer_start': [500, 604, 548, 828, 904, 756, 303, 76, 303, 1122, 1122, 1041, 1320, 1312, 972, 972, 1521, 1482, 1483, 1573], 'answer_end': [557, 653, 602, 970, 970, 800, 406, 149, 406, 1196, 1196, 1158, 1392, 1374, 1042, 1120, 1572, 1512, 1520, 1621]}}\n",
      "{'source': 'gutenberg', 'story': \"CHAPTER XXIV. THE INTERRUPTED MASS \\n\\nThe morning of that Wednesday of Corpus Christi, fateful to all concerned in this chronicle, dawned misty and grey, and the air was chilled by the wind that blew from the sea. The chapel bell tinkled out its summons, and the garrison trooped faithfully to Mass. \\n\\nPresently came Monna Valentina, followed by her ladies, her pages, and lastly, Peppe, wearing under his thin mask of piety an air of eager anxiety and unrest. Valentina was very pale, and round her eyes there were dark circles that told of sleeplessness, and as she bowed her head in prayer, her ladies observed that tears were falling on the illuminated Mass-book over which she bent. And now came Fra Domenico from the sacristy in the white chasuble that the Church ordains for the Corpus Christi feast, followed by a page in a clerkly gown of black, and the Mass commenced. \\n\\nThere were absent only from the gathering Gonzaga and Fortemani, besides a sentry and the three prisoners. Francesco and his two followers. \\n\\nGonzaga had presented himself to Valentina with the plausible tale that, as the events of which Fanfulla's letter had given them knowledge might lead Gian Maria at any moment to desperate measures, it might be well that he should reinforce the single man-at-arms patrolling the walls. Valentina, little recking now whether the castle held or fell, and still less such trifles as Gonzaga's attendance at Mass, had assented without heeding the import of what he said. \\n\\nAnd so, his face drawn and his body quivering with the excitement of what he was about to do, Gonzaga had repaired to the ramparts so soon as he had seen them all safely into chapel. The sentinel was that same clerkly youth Aventano, who had read to the soldiers that letter Gian Maria had sent Gonzaga. This the courtier accepted as a good omen. If a man there was among the soldiery at Roccaleone with whom he deemed that he had an account to settle, that man was Aventano. \", 'questions': ['Who arrived at the church?', 'Who was followed by a clerk dressed in black?', 'Who was crying?', 'Who noticed it?', 'Did any others arrive with her?', 'What other group of people were in her group?', 'And who in the group was anxious?', 'Was she well-rested?', 'Who should be reinforced?', 'Who thought these measures were required?'], 'answers': {'input_text': ['the garrison first', 'Fra. Domenico', 'Valentina', 'her ladies', 'yes', 'her pages', ', Peppe', 'no', 'the single man-at-arms patrolling the walls.', 'Gian Maria'], 'answer_start': [254, 687, 459, 592, 301, 311, 378, 490, 1221, 1172], 'answer_end': [297, 853, 684, 665, 386, 386, 460, 553, 1307, 1304]}}\n",
      "{'source': 'race', 'story': \"Have you ever been to some big cities in the world? The information below will be helpful to you. Budapest For many centuries, Budapest was two cities, with Buda on the west side of the river Danube and Pest on the east side. Budapest became one city in 1872, and it has been the capital city of Hungary for about eighty years. The population of Budapest is about three million, and the city is a very popular place for tourists. Visitors like to take boat rides along the Danube. Budapest is also known for its exciting nightlife. The best time to visit is summer since Budapest is very cold in winter. Los Angeles Los Angeles was founded in 1781. With 3.5 million people it is now the biggest city in California and the second largest city in the United States. It is famous for its modern highways, its movie stars, and its smog. When the city is really smoggy, you can't see the near-by Mountains. The weather is usually dry and warm. Visitors like to go to the film studios and to drive along Hollywood Street. There are many good beaches near the city, and Los Angeles is also close to Disneyland. Taipei Since the founding of Taipei in the 18th century, the city has grown to a population of 2.3 million. Taipei is an exciting city, but the weather is humid and not always pleasant. It's also a very busy city, and the streets are always full of people. There is an excellent museum that many people visit. Taipei is quite an expensive city, but not more expensive than some neighboring cities such as Hong Kong and Tokyo. So more and more travelers go to Taipei to shop.\", 'questions': ['Was Budapest always one city?', 'How many was it?', 'What was one called?', 'Where was it located?', 'What was the other?', 'Where was it located?', 'When did they combine?', \"Is it an important city in it's country?\", 'How many people live there?', 'Do other people visit?', 'What do they do?', 'Where?', 'When do people like to go?', 'Why?', 'When was LA started?', 'What is the climate like there?', 'What is it close to?', 'How many people live in Taipei?', 'Is it cheap to live there?', 'Do people prefer to buy things in Hong Kong?'], 'answers': {'input_text': ['no', 'two', 'Buda', 'the west side of the river', 'Danube and Pest', 'the east side', 'in 1872', 'yes', 'The population of Budapest is about three million', 'yes', 'take boat rides', 'along the Danube', 'summer', \"because it's very cold in winter\", '1781', 'dry and warm', 'Disneyland', '2.3 million', 'no', 'no'], 'answer_start': [127, 127, 156, 157, 192, 210, 226, 263, 328, 383, 430, 463, 531, 565, 616, 924, 1083, 1198, 1414, 1530], 'answer_end': [150, 150, 161, 191, 208, 224, 258, 327, 377, 428, 468, 479, 564, 602, 647, 937, 1102, 1210, 1447, 1577]}}\n",
      "{'source': 'cnn', 'story': '(CNN) -- A lawsuit filed by the family of Robert Champion, the Florida A&M University band member allegedly beaten to death in a hazing ritual, accuses the bus company involved in the deadly assault and the bus driver of negligence, their attorney said Monday. \\n\\nThe suit alleges that Fabulous Coach Lines and its driver not only consented to the illegal acts of hazing by students, they knowingly participated in the planned hazing activity over several years. \\n\\n\"This was a culture embraced by this bus company,\" Chris Chestnut said. \\n\\nAccording to court documents, Bus C, which is was the vehicle where the incident took place and the name of a specific hazing ritual, was parked in a dark corner, separate from the other buses provided by the company. \\n\\nThe suit also alleges that the bus and its air conditioning system were running at the time Champion was beaten and that the bus driver was standing guard at the door to prevent anyone from entering or exiting the vehicle. \\n\\nWhen Champion stepped off the bus at one point to vomit, the bus driver told him \"he would be alright as she forced him back onto the bus,\" the lawsuit claims. \\n\\nDespite a request for damages in excess of $15,000, Chestnut insisted the focus isn\\'t money. It allows him to file subpoenas and take witness statements to further the investigation. \\n\\n\"We figure out how this happened, we figure out how to fix it, and then we stop it from happening again,\" Chestnut said. \\n\\nCalls to the bus company and its attorneys, Wicker, Smith, O\\'Hara, McCoy, and Ford, PA, for comment have not been returned. ', 'questions': ['WHO IS FILING THE LAWSUIT?', 'AGAINST WHOM?', 'WHAT DOES THE FAMILY ACCUSE THE COMPANY OF?', 'WHAT HAPPENED TO ROBERT?', 'WHERE WAS HE KILLED?', 'HOW DO THEY IDENTIFY THAT BUS?', 'WHERE WAS IT LOCATED WHEN THE INCIDENT TOOK PLACE?', 'WHAT ABOUT THE DRIVER?', 'WAS ROBERT IN A UNIVERSITY?', 'WHICH ONE?', 'DID THE DRIVER HELP HIM?', 'WAS IS A MALE DRIVER>', 'ARE THEY SUING HER TOO?', 'WHAT IS THE REQUEST FOR DAMAGES?', 'IS THE FAMILY FOCUSED ON THE MONEY?', \"WHAT'S THEIR MAIN FOCUS?\", 'DOES THE BUS COMPANY HAVE MULTIPLE ATTORNEYS?', 'HOW MANY>', 'HOW HAVE THEY RESPONDED TO THE CALLS?', 'DO THEY HAVE PROOF THE BUS COMPANY WAS IN ON IT?', 'WHAT HAPPENED WHEN CHAMPION FIRST STEPPED OUT OF THE BUS?'], 'answers': {'input_text': ['The family of Robert Champion', 'Fabulous Coach Lines', 'The company consented to the illegal acts of hazing by students', 'Beaten to death', 'In a bus.', 'Bus C', 'In a dark corner, separate from the other buses', 'Was standing guard at the door to prevent anyone from entering or exiting the vehicle', 'Yes', 'Florida A&M University', 'No', 'No', 'Yes', '$15,000', 'No', 'To file subpoenas and take witness statements to further the investigation', 'Yes', 'Five', 'No', 'Yes', 'He vomited.'], 'answer_start': [28, 285, 330, 108, 568, 568, 687, 894, 63, 63, 1092, 1088, 207, 1188, 1219, 1252, 1486, 1497, 1546, 388, 1033], 'answer_end': [57, 305, 460, 123, 573, 573, 730, 979, 74, 85, 1121, 1092, 231, 1195, 1236, 1326, 1496, 1535, 1575, 461, 1038]}}\n",
      "{'source': 'race', 'story': 'Officials of the Chicago Transit Authority said they were investigating. The child, Nicole Hobson, was being taken by her mother to Children\\'s Memorial Hospital about 11 P. M., Wednesday to check her recently inserted pacemaker. \\n\\nThe child was stricken about a mile from the hospital. Her mother, May Hobson, 40, said, \"I told the bus driver that my baby had just had heart operation and that she was having a heart failure. He said he couldn\\'t go through the traffic.\" \\n\\nTed Garretson, 28, a passenger who had tried to bring back Nicole\\'s life, said the driver did nothing to help and stopped once to pick up more passengers. \\n\\nWhen the driver reached a corner where he was to make a turn, a block from the hospital, he told Mrs. Hobson to get off, she said. \\n\\nA transit spokesman said the driver should have made radio call to the control center for help.', 'questions': ['who recently had heart surgery?', 'what should the driver have done?', 'where did he leave them off?', 'did the driver help?', 'who tried to bring Nicole back to life?', 'how old is Ted?', 'did the driver try to pick more people up?', 'who is looking into the situation?', 'where was May heading with Nicole?', 'what day?', 'what had recently been put into nicole?', 'what time were they going to the hospital?', \"what is the mother's name?\", 'how old is she?'], 'answers': {'input_text': ['Nicole Hobson', 'made radio call to the control center', 'a block from the hospital', 'no', 'Ted Garretson', '28', 'yes', 'Officials of the Chicago Transit Authority', \"Children's Memorial Hospital\", 'Wednesday', 'a pacemaker.', 'about 11 P. M.', 'May Hobson', '40'], 'answer_start': [321, 788, 692, 552, 473, 473, 583, 0, 99, 177, 195, 161, 286, 298], 'answer_end': [384, 857, 759, 582, 545, 490, 626, 71, 160, 186, 229, 175, 308, 312]}}\n",
      "{'source': 'race', 'story': 'Local businessmen are increasingly facing competition from online retailers. Larry Pollock, owner of Camera Co/Op on South Congress, said he has been dealing with this kind of problem for years, even before the Internet. The struggle began with mail-order catalogues , which are similar to online retailers in that they have few employees to pay, no sales tax fees and no business venue to lease and manage. \\n\\n\"Their overhead is lower, but they don\\'t offer a service like we do,\" Pollock said. \\n\\nPollock, however, said providing a valuable service to customers does not always guarantee continued sales. \\n\\n\"We spend 30 minutes to an hour with somebody and they go home and buy it on line,\" he said. \\n\\nAccording to the state comptroller\\'s office, online shopping is developing at a more rapid rate than traditional businesses. \\n\\nIn spite of how fair or unfair online shopping may be to the local businessmen, consumers will continue to turn to the Internet for its variety and accessibility, said Mitch Wilson, an online shopper. \"You have a larger selection and it\\'s easier to compare prices.\" \\n\\nWilson said he built his personal computer and paid a third of the price by shopping on line. \\n\\n\"Before the Internet, I would have had to go and buy an assembled computer from somebody like Dell,\" he said. \"Before I started shopping on line I could never find all the pieces I wanted. No single store had everything needed, so shopping on line saved me from having to buy from Dell.\" \\n\\nJanny Brazeal, a psychology freshman, said online shopping is too impersonal. \\n\\n\"\\'d rather see it in person, touch it, know that I\\'m getting it,\" she said. \\n\\nBrazeal also said she would not give out her credit card number or other personal information on line no matter how safe the site claims it is.', 'questions': ['What is a valuable service?', 'What is the issue?', 'When did it begin?', 'Is is happening quickly?', 'What is a safety issue?', 'What is easier about online?', 'Overhead higher or lower?', 'What is a reason online is cheaper?', 'why?', 'who does it affect most?'], 'answers': {'input_text': ['brick and mortar stores', 'competition from online retailers', 'with mail-order catalogues', 'yes', 'online security', 'variety and accessibility', 'lower', 'overhead is lower', 'few employees to pay, no sales tax fees and no business venue to lease and manage', 'local businessmen'], 'answer_start': [101, 42, 240, 765, 1653, 964, 429, 416, 325, 0], 'answer_end': [113, 76, 266, 826, 1783, 989, 434, 434, 408, 17]}}\n",
      "{'source': 'wikipedia', 'story': \"The University of Chicago (UChicago, Chicago, or U of C) is a private research university in Chicago. The university, established in 1890, consists of The College, various graduate programs, interdisciplinary committees organized into four academic research divisions and seven professional schools. Beyond the arts and sciences, Chicago is also well known for its professional schools, which include the Pritzker School of Medicine, the University of Chicago Booth School of Business, the Law School, the School of Social Service Administration, the Harris School of Public Policy Studies, the Graham School of Continuing Liberal and Professional Studies and the Divinity School. The university currently enrolls approximately 5,000 students in the College and around 15,000 students overall. \\n\\nUniversity of Chicago scholars have played a major role in the development of various academic disciplines, including: the Chicago school of economics, the Chicago school of sociology, the law and economics movement in legal analysis, the Chicago school of literary criticism, the Chicago school of religion, and the behavioralism school of political science. Chicago's physics department helped develop the world's first man-made, self-sustaining nuclear reaction beneath the university's Stagg Field. Chicago's research pursuits have been aided by unique affiliations with world-renowned institutions like the nearby Fermilab and Argonne National Laboratory, as well as the Marine Biological Laboratory. The university is also home to the University of Chicago Press, the largest university press in the United States. With an estimated completion date of 2020, the Barack Obama Presidential Center will be housed at the university and include both the Obama presidential library and offices of the Obama Foundation.\", 'questions': ['When was teh University established?', 'How many professionals schools is it organized into?', 'How many students are enrolled?', 'and in the college?', 'What is the University home to?', 'Is that a small press?', 'What will be completed in 2020?', 'where will that be?', 'What will be there?', 'Does the University have a medical school?', 'A law school?'], 'answers': {'input_text': ['1890', 'seven', '15,000', '5,000', 'University of Chicago Press,', 'No, it is the largest university press in the United States.', 'the Barack Obama Presidential Center', 'It will be housed at the university', 'both the Obama presidential library and offices of the Obama Foundation.', 'Yes, the Pritzker School of Medicine', 'Yes'], 'answer_start': [133, 272, 769, 728, 1537, 1566, 1659, 1705, 1735, 404, 486], 'answer_end': [137, 277, 775, 733, 1565, 1614, 1696, 1729, 1814, 432, 500]}}\n"
     ]
    }
   ],
   "source": [
    "data_split = dataset['train']\n",
    "\n",
    "from itertools import islice\n",
    "iterator = islice(data_split, 10) # Slice top 10 stories\n",
    "for story in iterator:\n",
    "    print(story)"
   ]
  },
  {
   "cell_type": "markdown",
   "metadata": {},
   "source": [
    "Create the embeddings from the partition, and persist them over SQL using our vector database."
   ]
  },
  {
   "cell_type": "code",
   "execution_count": 5,
   "metadata": {},
   "outputs": [
    {
     "name": "stdout",
     "output_type": "stream",
     "text": [
      "Dataset({\n",
      "    features: ['source', 'story', 'questions', 'answers'],\n",
      "    num_rows: 7199\n",
      "})\n"
     ]
    }
   ],
   "source": [
    "len(data_split)\n",
    "print(data_split)"
   ]
  },
  {
   "cell_type": "markdown",
   "metadata": {},
   "source": [
    "We will only embed the first 300 articles, with all of their respective Q and As (4474 total). The embedding and persistence script may take a few minutes to complete. Check the progress bar to follow."
   ]
  },
  {
   "cell_type": "code",
   "execution_count": 12,
   "metadata": {},
   "outputs": [
    {
     "name": "stdout",
     "output_type": "stream",
     "text": [
      "|████████████████████████████████████████| 300/300 [100%] in 2:41.5 (1.86/s)    \n",
      "Questions embedded: 4474"
     ]
    }
   ],
   "source": [
    "chunk = []\n",
    "\n",
    "story_insert = \"INSERT INTO RAG_COQA.Story (StoryId, Source, Story, StoryEmbedding) VALUES (?,?,?,?)\"\n",
    "qanda_insert = \"INSERT INTO RAG_COQA.QandA (StoryId, Question, QuestionEmbedding, Answer) VALUES (?,?,TO_VECTOR(?,DOUBLE,768),?)\"\n",
    "\n",
    "story_cursor = conn.cursor()\n",
    "qanda_cursor = conn.cursor()\n",
    "\n",
    "from alive_progress import alive_bar\n",
    "\n",
    "limit = 300\n",
    "assert limit < len(data_split), \"Limit cannot surpass size of data set.\"\n",
    "\n",
    "with alive_bar(limit, force_tty=True) as bar:\n",
    "    qanda_count = 0\n",
    "    for idx, story in enumerate(data_split, start=1):\n",
    "        #;\n",
    "        story_embedding = model.encode(story['story'])\n",
    "        story_embedding_to_list = str(story_embedding.tolist())[1:-1]\n",
    "        story_cursor.execute(story_insert, [idx, story['source'][0:9990], story['story'], story_embedding_to_list])\n",
    "        #;\n",
    "        # Create embeddings for the questions with the pre-trained model.\n",
    "        chunk = []\n",
    "        questions = list(story['questions']) # This is a list[str]\n",
    "        answers = list(story['answers']['input_text']) # This is also a list[str]\n",
    "        qanda_count += len(questions)\n",
    "        question_embeddings = model.encode(questions) # This is a list[tensor]\n",
    "        #;\n",
    "        #\n",
    "        question_embeddings_to_list = [str(embedding.tolist())[1:-1] for embedding in question_embeddings]\n",
    "        #;\n",
    "        #\n",
    "        for qdx, question in enumerate(questions):\n",
    "            chunk.append([idx, question, question_embeddings_to_list[qdx], answers[qdx][0:999]])\n",
    "        qanda_cursor.executemany(qanda_insert, chunk)\n",
    "        #\n",
    "        if idx == limit + 1: \n",
    "            break\n",
    "        bar()\n",
    "\n",
    "print(\"Questions embedded: \" + str(qanda_count), end='')\n"
   ]
  },
  {
   "cell_type": "markdown",
   "metadata": {},
   "source": [
    "To remove the tables, run a DROP command. Dropping these tables will lose all embeddings data from this notebook."
   ]
  },
  {
   "cell_type": "code",
   "execution_count": 13,
   "metadata": {},
   "outputs": [
    {
     "name": "stdout",
     "output_type": "stream",
     "text": [
      "Tables not dropped.\n"
     ]
    }
   ],
   "source": [
    "## Drop tables\n",
    "drop = input(\"Warning! Are you sure you want to drop tables? You will need to rebuild the tables and embeddings to run any further exercises. (Y/N)\")\n",
    "if drop == \"Y\":\n",
    "    cursor = conn.cursor()\n",
    "    cursor.execute(\"DROP TABLE RAG_COQA.Story\")\n",
    "    cursor.execute(\"DROP TABLE RAG_COQA.QandA\")\n",
    "    cursor.close()\n",
    "    print(\"Tables dropped.\")\n",
    "else:\n",
    "    print(\"Tables not dropped.\")"
   ]
  }
 ],
 "metadata": {
  "kernelspec": {
   "display_name": ".venv",
   "language": "python",
   "name": "python3"
  },
  "language_info": {
   "codemirror_mode": {
    "name": "ipython",
    "version": 3
   },
   "file_extension": ".py",
   "mimetype": "text/x-python",
   "name": "python",
   "nbconvert_exporter": "python",
   "pygments_lexer": "ipython3",
   "version": "3.11.9"
  }
 },
 "nbformat": 4,
 "nbformat_minor": 2
}
